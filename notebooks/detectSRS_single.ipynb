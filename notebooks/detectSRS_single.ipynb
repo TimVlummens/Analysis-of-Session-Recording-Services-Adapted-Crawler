{
 "cells": [
  {
   "cell_type": "code",
   "execution_count": 2,
   "metadata": {},
   "outputs": [],
   "source": [
    "import json\n",
    "import glob\n",
    "from tld import get_tld"
   ]
  },
  {
   "cell_type": "code",
   "execution_count": 27,
   "metadata": {},
   "outputs": [],
   "source": [
    "EMAIL_PREFIX = \"timthesis40+\"\n",
    "EMAIL_SUFFIX =  \"@gmail.com\"\n",
    "OG_FIELD_INPUTS = {'tel': \"497413093\", 'organization': \"Sample Company\", 'street-address': \"Rue Jean Lorette 169\", 'address-line1': \"number 89\",\n",
    "                'address-line2': \"box 2\", 'address-line3': \"Thuin\", 'address-level2': \"Thuin\", 'address-level1': \"Thuin\", 'postal-code': \"6530\",\n",
    "                'country': \"Belgium\", 'cc-name': \"Harold Gonzalez\", 'name': \"Harold\", 'given-name': \"Harry\", 'additional-name': \"Jerry\",\n",
    "                'family-name': \"Gonzalez\", 'cc-number': \"4929846523784508\", 'cc-exp-month': \"02\", 'cc-exp-year': \"25\", 'cc-exp': \"02/25\",\n",
    "                'cc-type': \"Mastercard\", 'username': \"cosicadam\", 'password': \"myPwd1111111111111=\", 'default': \"Adam\"}\n",
    "FIELD_INPUTS_NO_NUMBERS = {'tel': \"497413093\", 'organization': \"Sample Company\", 'street-address': \"Rue Jean Lorette 169\", 'address-line1': \"number 89\",\n",
    "                'address-line2': \"box 2\", 'address-line3': \"Thuin\", 'address-level2': \"Thuin\", 'address-level1': \"Thuin\", 'country': \"Belgium\",\n",
    "                'cc-name': \"Harold Gonzalez\", 'name': \"Harold\", 'given-name': \"Harry\", 'additional-name': \"Jerry\", 'family-name': \"Gonzalez\",\n",
    "                'cc-number': \"4929846523784508\", 'cc-type': \"Mastercard\", 'username': \"cosicadam\", 'password': \"myPwd1111111111111=\", 'default': \"Adam\"}\n",
    "\n",
    "REQUEST_TRESHHOLD = 1"
   ]
  },
  {
   "cell_type": "code",
   "execution_count": 28,
   "metadata": {},
   "outputs": [],
   "source": [
    "OUTPUT_MAPPING = {0: \"Not present\", 1: \"No single compbination\", 2: \"Combined presence, no input\", 3: \"Combined presence, input\", 4: \"Single domain, no input\", 5: \"Single domain, input\"}"
   ]
  },
  {
   "cell_type": "code",
   "execution_count": 29,
   "metadata": {},
   "outputs": [],
   "source": [
    "def StatusEventListeners(eventListenersResult):\n",
    "    if not eventListenersResult[\"pageContainsAllEvents\"]:\n",
    "        # Page doesn't have required event listeners, likelyhood of prescense low\n",
    "        return 0, [], []\n",
    "    \n",
    "    if len(eventListenersResult[\"Domains\"]) == 0:\n",
    "        # The page has the eventlisteners spread over all domains, not likely this would be the case\n",
    "        return 1, [], []\n",
    "    \n",
    "    scriptsContainingAll = []\n",
    "    domains = list(eventListenersResult[\"Domains\"].keys())\n",
    "\n",
    "    for domain in eventListenersResult[\"Domains\"]:\n",
    "        scriptsContainingAll += eventListenersResult[\"Domains\"][domain][\"scriptsContainingAllEvents\"]\n",
    "\n",
    "    if len(scriptsContainingAll) == 0:\n",
    "        # No single script has all listeners, srs possible, but less likely then if one script had all listeners\n",
    "        return 2, domains, []\n",
    "    \n",
    "    return 3, domains, scriptsContainingAll"
   ]
  },
  {
   "cell_type": "code",
   "execution_count": 30,
   "metadata": {},
   "outputs": [],
   "source": [
    "def StatusAPI(apiResult):\n",
    "    if len(apiResult) == 0:\n",
    "        # No fields filled\n",
    "        return -1, [], []\n",
    "    \n",
    "    domains = set()\n",
    "    urls = set()\n",
    "    result = 0\n",
    "\n",
    "    for domain in apiResult:\n",
    "        for url in apiResult[domain]:\n",
    "            if apiResult[domain][url][1] > result:\n",
    "                result = apiResult[domain][url][1]\n",
    "            if apiResult[domain][url][1] >= 2:\n",
    "                domains.add(domain)\n",
    "                urls.add(url)\n",
    "\n",
    "    # if len(domains) != 0:\n",
    "    #     return result, list(domains), list(urls)\n",
    "    \n",
    "    # for domain in apiResult:\n",
    "    #     for url in apiResult[domain]:\n",
    "    #         if apiResult[domain][url][1] > result:\n",
    "    #             result = apiResult[domain][url][1]\n",
    "    #         if apiResult[domain][url][1] == 1:\n",
    "    #             domains.add(domain)\n",
    "    #             urls.add(url)\n",
    "    \n",
    "    return result, list(domains), list(urls)"
   ]
  },
  {
   "cell_type": "code",
   "execution_count": 31,
   "metadata": {},
   "outputs": [],
   "source": [
    "def StatusRequests(requestResult, eventDomains, eventScripts):\n",
    "    if len(requestResult) == 0:\n",
    "        return 0, []\n",
    "    \n",
    "    domainMatched = []\n",
    "    scriptMatched = []\n",
    "\n",
    "    for initiatorResult in requestResult:\n",
    "        if initiatorResult[\"count\"] < REQUEST_TRESHHOLD:\n",
    "            continue\n",
    "\n",
    "        for domain in eventDomains:\n",
    "            # Check if a domain overlap exists between requests and events\n",
    "            if domain in initiatorResult[\"domains\"]:\n",
    "                for script in eventScripts:\n",
    "                    # Check if a scrips overlap exists between requests and events\n",
    "                    if script in initiatorResult[\"urls\"]:\n",
    "                        scriptMatched.append(initiatorResult)\n",
    "    \n",
    "    if len(scriptMatched) == 0:\n",
    "        return 1, []\n",
    "    \n",
    "    return 2, scriptMatched"
   ]
  },
  {
   "cell_type": "code",
   "execution_count": 40,
   "metadata": {},
   "outputs": [],
   "source": [
    "def CombineResults(eventStatus, eventDomains, eventScripts, apiStatus, apiDomains, apiScripts, requestStatus, requestScripts):\n",
    "\n",
    "    if requestStatus == 1 and eventStatus > 1:\n",
    "            # Requests found, but no match\n",
    "            return 1, [], []\n",
    "    \n",
    "    # Match in script between event listeners and requests\n",
    "\n",
    "    # Inputs were filled\n",
    "    if apiStatus != -1:\n",
    "        scripts = set()\n",
    "        domains = set()\n",
    "        result = 3\n",
    "        # probable script the last in initiator chain?\n",
    "        for initiatorResult in requestScripts:\n",
    "            script = initiatorResult[\"urls\"][-1]\n",
    "            if script == \"__puppeteer_evaluation_script__\":\n",
    "                if len(initiatorResult[\"urls\"]) > 1:\n",
    "                    script = initiatorResult[\"urls\"][-2]  \n",
    "\n",
    "            scripts.add(script)\n",
    "            res = get_tld(script, as_object=True, fail_silently=True)\n",
    "            if res is not None:\n",
    "                domains.add(res.domain)\n",
    "                # Check if final sending domain is the one with the events\n",
    "                if res.domain in eventDomains and res.domain in apiDomains:\n",
    "                    result = 5\n",
    "\n",
    "        return result, list(domains), list(scripts)\n",
    "\n",
    "    # No inputs were filled\n",
    "    else:\n",
    "        scripts = set()\n",
    "        domains = set()\n",
    "        result = 2\n",
    "        # probable script the last in initiator chain?\n",
    "        for initiatorResult in requestScripts:\n",
    "            script = initiatorResult[\"urls\"][-1]\n",
    "            if script == \"__puppeteer_evaluation_script__\":\n",
    "                if len(initiatorResult[\"urls\"]) > 1:\n",
    "                    script = initiatorResult[\"urls\"][-2]            \n",
    "\n",
    "            scripts.add(script)\n",
    "            res = get_tld(script, as_object=True, fail_silently=True)\n",
    "            if res is not None:\n",
    "                domains.add(res.domain)\n",
    "                # Check if final sending domain is the one with the events\n",
    "                if res.domain in eventDomains:\n",
    "                     result = 4\n",
    "\n",
    "        return result, list(domains), list(scripts)"
   ]
  },
  {
   "cell_type": "code",
   "execution_count": 33,
   "metadata": {},
   "outputs": [],
   "source": [
    "# Return likelyhood, identified domains, scripts and the eventlisteners status\n",
    "def CheckSRSLikelyhood(siteData):\n",
    "    eventStatus, eventDomains, eventScripts = StatusEventListeners(siteData[\"EventListenerResults\"])\n",
    "    print(eventStatus, eventDomains, eventScripts)\n",
    "    if eventStatus == 0:\n",
    "        return 0, [], [], 0\n",
    "    \n",
    "    requestStatus, requestScripts = StatusRequests(siteData[\"RequestResults\"], eventDomains, eventScripts)\n",
    "    print(requestStatus, requestScripts)\n",
    "    if requestStatus == 0:\n",
    "        return 0, [], [], eventStatus\n",
    "\n",
    "    apiStatus, apiDomains, apiScripts = StatusAPI(siteData[\"APIResults\"])\n",
    "    print(apiStatus, apiDomains, apiScripts)\n",
    "\n",
    "    result, domains, scripts = CombineResults(eventStatus, eventDomains, eventScripts, apiStatus, apiDomains, apiScripts, requestStatus, requestScripts)\n",
    "    return result, domains, scripts, eventStatus"
   ]
  },
  {
   "cell_type": "code",
   "execution_count": 34,
   "metadata": {},
   "outputs": [],
   "source": [
    "filePath = \"SortedOutput2/wired.com.json\""
   ]
  },
  {
   "cell_type": "code",
   "execution_count": 41,
   "metadata": {},
   "outputs": [
    {
     "name": "stdout",
     "output_type": "stream",
     "text": [
      "3 ['condenastdigital', 'hotjar', 'imasdk', 'parsely'] ['https://pixel.condenastdigital.com/sparrow.min.js', 'https://script.hotjar.com/modules.15845db2f7d4b3e39af3.js', 'https://imasdk.googleapis.com/js/sdkloader/ima3.js', 'https://cdn.parsely.com/keys/wired.com/p.js']\n",
      "2 [{'count': 2, 'domains': ['condenastdigital', 'wired'], 'inputsPresent': [], 'urls': ['https://pixel.condenastdigital.com/sparrow.min.js', 'https://www.wired.com/verso/static/9738.c3d147421dc2d899a182.js', 'https://www.wired.com/verso/static/9742.8be795300da626b96b3c.js']}, {'count': 13, 'domains': ['condenastdigital'], 'inputsPresent': [], 'urls': ['https://pixel.condenastdigital.com/sparrow.min.js']}, {'count': 1, 'domains': ['imasdk', 'd2c8v52ll5s99u', 'cookielaw'], 'inputsPresent': [], 'urls': ['https://imasdk.googleapis.com/js/sdkloader/ima3.js', 'https://d2c8v52ll5s99u.cloudfront.net/player/main-122ba8edff12a051f727.js', 'https://cdn.cookielaw.org/scripttemplates/202211.2.0/otTCF.js', 'https://cdn.cookielaw.org/scripttemplates/202211.2.0/otBannerSdk.js', '__puppeteer_evaluation_script__']}]\n",
      "2 ['wired'] ['https://www.wired.com/verso/static/9742.8be795300da626b96b3c.js']\n",
      "{'result': 3, 'domains': ['condenastdigital', 'wired', 'cookielaw'], 'scripts': ['https://www.wired.com/verso/static/9742.8be795300da626b96b3c.js', 'https://cdn.cookielaw.org/scripttemplates/202211.2.0/otBannerSdk.js', 'https://pixel.condenastdigital.com/sparrow.min.js'], 'eventStatus': 3}\n"
     ]
    }
   ],
   "source": [
    "siteName = filePath[0:filePath.rfind(\".\")]\n",
    "siteName = siteName[siteName.find(\"/\")+1:]\n",
    "print(siteName)\n",
    "\n",
    "siteDomain = None\n",
    "res = get_tld(siteName, as_object=True, fail_silently=True)\n",
    "print(res)\n",
    "if res is not None:\n",
    "    siteDomain = res.domain\n",
    "\n",
    "print(siteDomain)\n",
    "\n",
    "# Load the data from the .json file\n",
    "f = open(filePath, encoding=\"utf-8\") \n",
    "allData = json.load(f)\n",
    "f.close()\n",
    "\n",
    "result, domains, scripts, eventStatus = CheckSRSLikelyhood(allData)\n",
    "\n",
    "print({\"result\": result, \"domains\": domains, \"scripts\": scripts, \"eventStatus\": eventStatus})"
   ]
  },
  {
   "cell_type": "code",
   "execution_count": 16,
   "metadata": {},
   "outputs": [
    {
     "name": "stdout",
     "output_type": "stream",
     "text": [
      "com\n",
      "000cheapdomains\n"
     ]
    }
   ],
   "source": [
    "# siteName = \"https://vintageking.com\"\n",
    "siteName = \"https://000cheapdomains.com\"\n",
    "\n",
    "siteDomain = None\n",
    "res = get_tld(siteName, as_object=True, fail_silently=True)\n",
    "print(res)\n",
    "if res is not None:\n",
    "    siteDomain = res.domain\n",
    "\n",
    "print(siteDomain)"
   ]
  }
 ],
 "metadata": {
  "kernelspec": {
   "display_name": "Python 3",
   "language": "python",
   "name": "python3"
  },
  "language_info": {
   "codemirror_mode": {
    "name": "ipython",
    "version": 3
   },
   "file_extension": ".py",
   "mimetype": "text/x-python",
   "name": "python",
   "nbconvert_exporter": "python",
   "pygments_lexer": "ipython3",
   "version": "3.10.7"
  },
  "orig_nbformat": 4
 },
 "nbformat": 4,
 "nbformat_minor": 2
}
