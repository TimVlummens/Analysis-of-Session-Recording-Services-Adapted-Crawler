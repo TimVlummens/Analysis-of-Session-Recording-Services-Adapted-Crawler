{
 "cells": [
  {
   "cell_type": "code",
   "execution_count": 1,
   "metadata": {},
   "outputs": [],
   "source": [
    "import json\n",
    "from tld import get_tld\n",
    "\n",
    "# Declare the file that needs to be loaded\n",
    "filePath = \"SortedOutput/timvlummens.github.io_4ab9.json\"\n",
    "outputPath = \"Output/timvlummens.github.io.json\"\n",
    "\n",
    "filePath = \"SortedOutput/id90travel.com_f1a5.json\""
   ]
  },
  {
   "cell_type": "code",
   "execution_count": 2,
   "metadata": {},
   "outputs": [],
   "source": [
    "# Load the data from the .json file\n",
    "f = open(filePath, encoding=\"utf-8\") \n",
    "allData = json.load(f)\n",
    "f.close()"
   ]
  },
  {
   "cell_type": "code",
   "execution_count": 3,
   "metadata": {},
   "outputs": [],
   "source": [
    "FinalResult = {}\n",
    "NECESSARY_EVENTS =  [[\"mousemove\"],\n",
    "                    [\"click\", \"mousedown\"], \n",
    "                    [\"keypress\", \"keydown\", \"input\"], \n",
    "                    [\"scroll\", \"wheel\"]]\n",
    "\n",
    "EMAIL_PREFIX = \"timthesis40+\"\n",
    "EMAIL_SUFFIX =  \"@gmail.com\"\n",
    "FIELD_INPUTS = {'tel': \"497413093\", 'organization': \"Sample Company\", 'street-address': \"Rue Jean Lorette 169\", 'address-line1': \"number 89\",\n",
    "                'address-line2': \"box 2\", 'address-line3': \"Thuin\", 'address-level2': \"Thuin\", 'address-level1': \"Thuin\", 'postal-code': \"6530\",\n",
    "                'country': \"Belgium\", 'cc-name': \"Harold Gonzalez\", 'name': \"Harold\", 'given-name': \"Harry\", 'additional-name': \"Jerry\",\n",
    "                'family-name': \"Gonzalez\", 'cc-number': \"4929846523784508\", 'cc-exp-month': \"02\", 'cc-exp-year': \"25\", 'cc-exp': \"02/25\",\n",
    "                'cc-type': \"Mastercard\", 'username': \"cosicadam\", 'password': \"myPwd1111111111111=\", 'default': \"Adam\"}\n",
    "\n",
    "STOP_TIME_WINDOW_REQUESTS = 8500\n",
    "STOP_TIME_WINDOW_APIS = 500\n",
    "\n",
    "MOVEWIDTHS =  [290, 100, 250, 180, 320, 430]\n",
    "MOVEHEIGTHS = [420, 310, 330, 230, 300, 130]"
   ]
  },
  {
   "cell_type": "code",
   "execution_count": 4,
   "metadata": {},
   "outputs": [],
   "source": [
    "# Check if necessary events are present in a set\n",
    "def CheckEventListenersFromSet(setOfListeners):\n",
    "    for eventType in NECESSARY_EVENTS:\n",
    "        eventTypePresent = False\n",
    "\n",
    "        for event in eventType:\n",
    "            if event in setOfListeners:\n",
    "                eventTypePresent = True\n",
    "                break\n",
    "        \n",
    "        if not eventTypePresent:\n",
    "            return False\n",
    "        \n",
    "    return True"
   ]
  },
  {
   "cell_type": "code",
   "execution_count": 5,
   "metadata": {},
   "outputs": [],
   "source": [
    "# Check if necessary events are present in a domain or script\n",
    "def CheckEventListenersFromDomain(domainInfo):\n",
    "    result = {\"scriptsContainingAllEvents\": [], \"domainContainsAllEvents\": False}\n",
    "    combinedEvents = set()\n",
    "\n",
    "    # Check each url seperatly\n",
    "    for url in domainInfo:\n",
    "        urlEvents = domainInfo[url]\n",
    "        combinedEvents.update(urlEvents)\n",
    "\n",
    "        eventsPresent = CheckEventListenersFromSet(urlEvents)\n",
    "\n",
    "        if eventsPresent:\n",
    "            result[\"scriptsContainingAllEvents\"].append(url)\n",
    "            result[\"domainContainsAllEvents\"] = True\n",
    "    \n",
    "    # If no scripts contains all events, check the entire domain\n",
    "    if not result[\"domainContainsAllEvents\"]:\n",
    "        result[\"domainContainsAllEvents\"] = CheckEventListenersFromSet(combinedEvents)\n",
    "\n",
    "    return result, combinedEvents"
   ]
  },
  {
   "cell_type": "code",
   "execution_count": 6,
   "metadata": {},
   "outputs": [],
   "source": [
    "# Check if necessary events are present on a page\n",
    "def CheckEventListeners(srsData):\n",
    "    result = {\"Domains\": {}, \"pageContainsAllEvents\": False}\n",
    "    combinedEvents = set()\n",
    "\n",
    "    for domain in srsData:\n",
    "        domainResult, domainEvents = CheckEventListenersFromDomain(srsData[domain])\n",
    "        combinedEvents.update(domainEvents)\n",
    "        \n",
    "        if domainResult[\"domainContainsAllEvents\"]:\n",
    "            result[\"Domains\"][domain] = domainResult\n",
    "            result[\"pageContainsAllEvents\"] = True\n",
    "        \n",
    "    # If no domain contains all events, check the entire page\n",
    "    if not result[\"pageContainsAllEvents\"]:\n",
    "        result[\"pageContainsAllEvents\"] = CheckEventListenersFromSet(combinedEvents)\n",
    "    \n",
    "    return result"
   ]
  },
  {
   "cell_type": "code",
   "execution_count": 7,
   "metadata": {},
   "outputs": [
    {
     "name": "stdout",
     "output_type": "stream",
     "text": [
      "{'Domains': {'id90travel': {'scriptsContainingAllEvents': ['https://www.id90travel.com/polyfills.c946be37bc478fc7.js'], 'domainContainsAllEvents': True}}, 'pageContainsAllEvents': True}\n"
     ]
    }
   ],
   "source": [
    "# Check if necessary events are present\n",
    "\n",
    "srsData = allData[\"srs\"]\n",
    "result = CheckEventListeners(srsData)\n",
    "print(result)\n",
    "FinalResult[\"EventListenerResults\"] = result\n"
   ]
  },
  {
   "cell_type": "code",
   "execution_count": 8,
   "metadata": {},
   "outputs": [],
   "source": [
    "def GetEmailFilled(filename):    \n",
    "    emailUrl = filename\n",
    "\n",
    "    index = emailUrl.rfind(\"_\")\n",
    "    if index != -1:\n",
    "        emailUrl = emailUrl[:index]\n",
    "\n",
    "    index = emailUrl.find(\"www.\")\n",
    "    if index != -1:\n",
    "        emailUrl = emailUrl[index+4:]\n",
    "\n",
    "    emailUrl = EMAIL_PREFIX + emailUrl + EMAIL_SUFFIX\n",
    "\n",
    "    # print(emailUrl)\n",
    "    return emailUrl"
   ]
  },
  {
   "cell_type": "code",
   "execution_count": 21,
   "metadata": {},
   "outputs": [],
   "source": [
    "# Get the number of characters filled by the crawler\n",
    "def GetNumberOfFilledCharacters(listOfFilledTypes, filename):\n",
    "    count = 0\n",
    "    count2 = 0\n",
    "    for type in listOfFilledTypes:\n",
    "        if type == \"password\":\n",
    "            count += len(FIELD_INPUTS[type])\n",
    "        elif type in FIELD_INPUTS:\n",
    "            count += len(FIELD_INPUTS[type])\n",
    "            count2 += len(FIELD_INPUTS[type])\n",
    "        elif type == \"email\":\n",
    "            count += len(GetEmailFilled(filename))\n",
    "            count2 += len(GetEmailFilled(filename))\n",
    "            print(GetEmailFilled(filename))\n",
    "        else: \n",
    "            count += len(FIELD_INPUTS['default'])\n",
    "            count2 += len(FIELD_INPUTS['default'])\n",
    "\n",
    "    print(count)\n",
    "    print(count2)        \n",
    "    return [count, count2]"
   ]
  },
  {
   "cell_type": "code",
   "execution_count": 10,
   "metadata": {},
   "outputs": [],
   "source": [
    "# Check the number of API accesses in a certain timeframe\n",
    "def CheckAPIWithTimestamps(timestamps, filledCharacters, filledFields, startTime, stopTime, window):\n",
    "    newStopTime = stopTime + window\n",
    "    count = 0\n",
    "\n",
    "    for timestamp in timestamps:\n",
    "        if timestamp >= startTime and timestamp <= newStopTime:\n",
    "            count += 1\n",
    "    \n",
    "    if (count >= filledCharacters[0] and count <= filledCharacters[0] + filledFields) or (count >= filledCharacters[1] and count <= filledCharacters[1] + filledFields):\n",
    "        return 3\n",
    "    \n",
    "    if count >= filledCharacters[0] or (filledCharacters[1] > 0 and count >= filledCharacters[1]):\n",
    "        return 2\n",
    "    \n",
    "    if count > 0:\n",
    "        return 1\n",
    "    \n",
    "    return 0"
   ]
  },
  {
   "cell_type": "code",
   "execution_count": 11,
   "metadata": {},
   "outputs": [],
   "source": [
    "# Check the number of API accesses in a certain timeframe\n",
    "def CheckAPIWithoutTimestamps(count, filledCharacters, filledFields):\n",
    "    if (count >= filledCharacters[0] and count <= filledCharacters[0] + filledFields) or (count >= filledCharacters[1] and count <= filledCharacters[1] + filledFields):\n",
    "        return 3\n",
    "    \n",
    "    if count >= filledCharacters[0] or (filledCharacters[1] > 0 and count >= filledCharacters[1]):\n",
    "        return 2\n",
    "    \n",
    "    if count > 0:\n",
    "        return 1\n",
    "    \n",
    "    return 0"
   ]
  },
  {
   "cell_type": "code",
   "execution_count": 12,
   "metadata": {},
   "outputs": [],
   "source": [
    "# Check API accesses per script\n",
    "def CheckAPI(apiData, filledData, filename):\n",
    "    result = {}\n",
    "\n",
    "    filledFields = filledData[\"filledFields\"]\n",
    "    filledCharacters = GetNumberOfFilledCharacters(filledData[\"listOfFilledTypes\"], filename)\n",
    "    startTime = filledData[\"startTime\"]\n",
    "    stopTime = filledData[\"stopTime\"]\n",
    "\n",
    "    if filledFields == 0:\n",
    "        return result\n",
    "\n",
    "    for domain in apiData:\n",
    "        result[domain] = {}\n",
    "        for url in apiData[domain]:\n",
    "            urlData = apiData[domain][url]\n",
    "            timestampResult = CheckAPIWithTimestamps(urlData[\"timestamps\"], filledCharacters, filledFields, startTime, stopTime, STOP_TIME_WINDOW_APIS)\n",
    "            noTimestampResult = CheckAPIWithoutTimestamps(urlData[\"count\"], filledCharacters, filledFields)\n",
    "            result[domain][url] = [timestampResult, noTimestampResult]\n",
    "    \n",
    "    return result\n",
    "    "
   ]
  },
  {
   "cell_type": "code",
   "execution_count": 22,
   "metadata": {},
   "outputs": [
    {
     "name": "stdout",
     "output_type": "stream",
     "text": [
      "timthesis40+id90travel.com@gmail.com\n",
      "55\n",
      "36\n",
      "{'facebook': {'https://connect.facebook.net/signals/config/1672163416384929?v=2.9.102&r=stable': [1, 1]}, 'id90travel': {'https://www.id90travel.com/main.18fa24010628e45f.js': [3, 3]}, 'smartlook': {'https://web-sdk.smartlook.com/es6/bundle.92f91e7a4f112b8cd064.js': [2, 2]}}\n"
     ]
    }
   ],
   "source": [
    "# Check if API accesses were made for the input fields by scripts with required events\n",
    "\n",
    "apiData = allData[\"apis\"]\n",
    "filledData = allData[\"filled\"]\n",
    "\n",
    "filename = filePath[filePath.rfind(\"SortedOutput\\\\\")+len(\"SortedOutput\\\\\")+1 :]\n",
    "# print(filename)\n",
    "\n",
    "result = CheckAPI(apiData, filledData, filename)\n",
    "print(result)\n",
    "FinalResult[\"APIResults\"] = result"
   ]
  },
  {
   "cell_type": "code",
   "execution_count": 14,
   "metadata": {},
   "outputs": [],
   "source": [
    "def GetFilledFieldsInputs(listOfFilledTypes, filename):\n",
    "    result = []\n",
    "\n",
    "    for type in listOfFilledTypes:\n",
    "        if type in FIELD_INPUTS:\n",
    "            result.append(FIELD_INPUTS[type])\n",
    "        elif type == \"email\":\n",
    "            result.append(GetEmailFilled(filename))\n",
    "        else: \n",
    "            result.append(FIELD_INPUTS['default'])\n",
    "\n",
    "    # print(result) \n",
    "    return result"
   ]
  },
  {
   "cell_type": "code",
   "execution_count": 15,
   "metadata": {},
   "outputs": [],
   "source": [
    "def CheckRequestsFields(requestData, filledData, filename):\n",
    "    listOfFilledTypes = filledData[\"listOfFilledTypes\"]\n",
    "    filledInputs = GetFilledFieldsInputs(listOfFilledTypes, filename)\n",
    "\n",
    "    startTime = filledData[\"startTime\"]\n",
    "    stopTime = filledData[\"stopTime\"] + STOP_TIME_WINDOW_REQUESTS\n",
    "\n",
    "    # {key = domain, value = {count, inputsPresent, urls = {key= url, value ={count, inputspresent}}}}\n",
    "    result = {}\n",
    "\n",
    "    for domain in requestData:\n",
    "        result[domain] = {\"count\": 0, \"inputsPresent\": set(), \"urls\": {}}\n",
    "        for url in requestData[domain]:\n",
    "            result[domain][\"urls\"][url] = {\"count\": 0, \"inputsPresent\": set()}\n",
    "\n",
    "            for request in requestData[domain][url]:\n",
    "                # print(request)\n",
    "                # Check timestamp (walltime in seconds, start/stop time in miliseconds)\n",
    "                if \"wallTime\" in request:\n",
    "                    timestamp = request[\"wallTime\"]*1000\n",
    "                    if timestamp >= startTime:\n",
    "                        result[domain][\"count\"] += 1\n",
    "                        result[domain][\"urls\"][url][\"count\"] += 1\n",
    "                \n",
    "                # Check if request contains input\n",
    "                for input in filledInputs:\n",
    "                    if \"postData\" in request and input in request[\"postData\"]:\n",
    "                        result[domain][\"inputsPresent\"].add(input)\n",
    "                        result[domain][\"urls\"][url][\"inputsPresent\"].add(input)\n",
    "\n",
    "            if result[domain][\"urls\"][url] == {\"count\": 0, \"inputsPresent\": set()}:\n",
    "                result[domain][\"urls\"].pop(url)\n",
    "    \n",
    "        if result[domain][\"count\"] == 0 and result[domain][\"inputsPresent\"] == set():\n",
    "            result.pop(domain)\n",
    "    \n",
    "    return result\n"
   ]
  },
  {
   "cell_type": "code",
   "execution_count": 16,
   "metadata": {},
   "outputs": [],
   "source": [
    "def CheckRequestsMouse(requestData, filledData):\n",
    "    startTime = filledData[\"startTime\"]\n",
    "    stopTime = filledData[\"stopTime\"] + STOP_TIME_WINDOW_REQUESTS\n",
    "\n",
    "    # {key = domain, value = {count, coordinatesPresent, urls = {key= url, value ={count, coordinatesPresent}}}}\n",
    "    result = {}\n",
    "\n",
    "    for domain in requestData:\n",
    "        result[domain] = {\"count\": 0, \"coordinatesPresent\": 0, \"urls\": {}}\n",
    "        for url in requestData[domain]:\n",
    "            result[domain][\"urls\"][url] = {\"count\": 0, \"coordinatesPresent\": 0}\n",
    "\n",
    "            for request in requestData[domain][url]:\n",
    "\n",
    "                # print(request)\n",
    "                # Check timestamp (walltime in seconds, start/stop time in miliseconds)\n",
    "                if \"wallTime\" in request:\n",
    "                    timestamp = request[\"wallTime\"]*1000\n",
    "                    if timestamp >= startTime:\n",
    "                        result[domain][\"count\"] += 1\n",
    "                        result[domain][\"urls\"][url][\"count\"] += 1\n",
    "                \n",
    "                # Check if request contains input\n",
    "                for i in range(len(MOVEWIDTHS)):\n",
    "                    if \"postData\" in request and str(MOVEWIDTHS[i]) in request[\"postData\"] and str(MOVEHEIGTHS[i]) in request[\"postData\"]:\n",
    "                        result[domain][\"coordinatesPresent\"] += 1\n",
    "                        result[domain][\"urls\"][url][\"coordinatesPresent\"] += 1\n",
    "            \n",
    "            if result[domain][\"urls\"][url] == {\"count\": 0, \"coordinatesPresent\": 0}:\n",
    "                result[domain][\"urls\"].pop(url)\n",
    "    \n",
    "        if result[domain][\"count\"] == 0 and result[domain][\"coordinatesPresent\"] == 0:\n",
    "            result.pop(domain)\n",
    "    \n",
    "    return result"
   ]
  },
  {
   "cell_type": "code",
   "execution_count": 17,
   "metadata": {},
   "outputs": [],
   "source": [
    "def CheckRequests(requestData, filledData, filename):\n",
    "     filledFields = filledData[\"filledFields\"]\n",
    "\n",
    "     if filledFields != 0:\n",
    "          result = CheckRequestsFields(requestData, filledData, filename)\n",
    "     else:\n",
    "          result = CheckRequestsMouse(requestData, filledData)\n",
    "\n",
    "     return result   \n"
   ]
  },
  {
   "cell_type": "code",
   "execution_count": 18,
   "metadata": {},
   "outputs": [
    {
     "name": "stdout",
     "output_type": "stream",
     "text": [
      "{'id90travel': {'count': 24, 'inputsPresent': set(), 'urls': {'https://www.id90travel.com/main.18fa24010628e45f.js': {'count': 10, 'inputsPresent': set()}, 'https://www.id90travel.com/polyfills.c946be37bc478fc7.js': {'count': 14, 'inputsPresent': set()}}}, 'instana': {'count': 14, 'inputsPresent': set(), 'urls': {'https://eum.instana.io/eum.min.js': {'count': 14, 'inputsPresent': set()}}}, 'smartlook': {'count': 15, 'inputsPresent': set(), 'urls': {'https://web-sdk.smartlook.com/es6/bundle.92f91e7a4f112b8cd064.js': {'count': 6, 'inputsPresent': set()}, 'https://web-sdk.smartlook.com/es6/init.832b29f132c1628fc0e1.js': {'count': 9, 'inputsPresent': set()}}}}\n"
     ]
    }
   ],
   "source": [
    "requestData = allData[\"requests\"]\n",
    "filledData = allData[\"filled\"]\n",
    "\n",
    "filename = filePath[filePath.rfind(\"SortedOutput\\\\\")+len(\"SortedOutput\\\\\")+1 :]\n",
    "# print(filename)\n",
    "\n",
    "result = CheckRequests(requestData, filledData, filename)\n",
    "print(result)\n",
    "FinalResult[\"RequestResults\"] = result"
   ]
  },
  {
   "cell_type": "code",
   "execution_count": null,
   "metadata": {},
   "outputs": [],
   "source": []
  }
 ],
 "metadata": {
  "kernelspec": {
   "display_name": "Python 3",
   "language": "python",
   "name": "python3"
  },
  "language_info": {
   "codemirror_mode": {
    "name": "ipython",
    "version": 3
   },
   "file_extension": ".py",
   "mimetype": "text/x-python",
   "name": "python",
   "nbconvert_exporter": "python",
   "pygments_lexer": "ipython3",
   "version": "3.10.7"
  },
  "vscode": {
   "interpreter": {
    "hash": "369f2c481f4da34e4445cda3fffd2e751bd1c4d706f27375911949ba6bb62e1c"
   }
  }
 },
 "nbformat": 4,
 "nbformat_minor": 4
}
