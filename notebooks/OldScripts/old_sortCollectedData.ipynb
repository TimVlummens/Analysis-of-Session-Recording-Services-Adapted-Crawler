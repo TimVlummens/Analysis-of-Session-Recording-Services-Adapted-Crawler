{
 "cells": [
  {
   "cell_type": "code",
   "execution_count": 25,
   "metadata": {},
   "outputs": [],
   "source": [
    "import json\n",
    "import glob\n",
    "from tld import get_tld\n",
    "\n",
    "filePathFolder = \"../data\\\\\"\n",
    "outputPath = \"SortedOutput/\"\n",
    "failedPath = \"SortedOutput/failedSites.json\""
   ]
  },
  {
   "cell_type": "code",
   "execution_count": 26,
   "metadata": {},
   "outputs": [],
   "source": [
    "# Sort the output from event listeners per domain\n",
    "def sortEventListeners(allData):\n",
    "    srsData = allData[\"data\"][\"srs\"][0]\n",
    "\n",
    "    # {key = domain, value = {key = url, value = {listenerTypes}}}\n",
    "    sortedListeners = {}\n",
    "\n",
    "    for listener in srsData:\n",
    "        if \"url\" in listener:\n",
    "            res = get_tld(listener[\"url\"], as_object=True, fail_silently=True)\n",
    "            if res is None:\n",
    "                # print(listener[\"url\"])\n",
    "                continue\n",
    "            \n",
    "            # Check if the event listener is set to once\n",
    "            if listener[\"once\"]:\n",
    "                continue\n",
    "\n",
    "            if res.domain not in sortedListeners:\n",
    "                # domain has no existing entries\n",
    "                sortedListeners[res.domain] = {listener[\"url\"] : {listener[\"listenerType\"]}}\n",
    "                continue\n",
    "\n",
    "            # domain already has entries\n",
    "            if listener[\"url\"] in sortedListeners[res.domain]:\n",
    "                # url already has entries, add new listener type\n",
    "                sortedListeners[res.domain][listener[\"url\"]].add(listener[\"listenerType\"])\n",
    "            else:\n",
    "                # url has no entries, add it with the corresponding listener\n",
    "                sortedListeners[res.domain][listener[\"url\"]] = {listener[\"listenerType\"]}\n",
    "        \n",
    "    # print(sortedListeners)\n",
    "    return sortedListeners       "
   ]
  },
  {
   "cell_type": "code",
   "execution_count": 27,
   "metadata": {},
   "outputs": [],
   "source": [
    "# Sort the output from requests per initiator domain\n",
    "def sortRequestsURL(allData):\n",
    "    requestData = allData[\"data\"][\"requests\"]\n",
    "\n",
    "    # {key = domain, value = {key = url, value = [messages]}}\n",
    "    sortedRequests = {}\n",
    "\n",
    "    for request in requestData:\n",
    "        for initiator in request[\"initiators\"]:\n",
    "\n",
    "            res = get_tld(initiator, as_object=True, fail_silently=True)\n",
    "            if res is None:\n",
    "                # print(initiator)\n",
    "                continue\n",
    "\n",
    "            if res.domain not in sortedRequests:\n",
    "                # domain has no existing entries\n",
    "                sortedRequests[res.domain] = {initiator : [request]}\n",
    "                continue\n",
    "\n",
    "            # domain already has entries\n",
    "            if initiator in sortedRequests[res.domain]:\n",
    "                # url already has entries, add new listener type\n",
    "                sortedRequests[res.domain][initiator].append(request)\n",
    "            else:\n",
    "                # url has no entries, add it with the corresponding listener\n",
    "                sortedRequests[res.domain][initiator] = [request]\n",
    "    \n",
    "    return sortedRequests"
   ]
  },
  {
   "cell_type": "code",
   "execution_count": 28,
   "metadata": {},
   "outputs": [],
   "source": [
    "# Sort the output from requests per initiator domain\n",
    "def sortRequests(allData):\n",
    "    requestData = allData[\"data\"][\"requests\"]\n",
    "\n",
    "    # {key = [initiators], value = [messages]}\n",
    "    sortedRequests = {}\n",
    "\n",
    "    for request in requestData:\n",
    "        initiators = tuple(request[\"initiators\"])\n",
    "\n",
    "        if initiators in sortedRequests:\n",
    "            sortedRequests[initiators].append(request)\n",
    "        else:\n",
    "            sortedRequests[initiators] = [request]\n",
    "           \n",
    "    return sortedRequests"
   ]
  },
  {
   "cell_type": "code",
   "execution_count": 29,
   "metadata": {},
   "outputs": [],
   "source": [
    "# Sort the output from apis per initiator domain\n",
    "def sortApis(allData):\n",
    "    apiData = allData[\"data\"][\"apis\"]\n",
    "    callStats = apiData[\"callStats\"]\n",
    "    inputResults = apiData[\"inputElementResults\"]\n",
    "\n",
    "    # {key = domain, value = {key = url, value = [count, [timestamps]]}\n",
    "    sortedApis = {}\n",
    "\n",
    "    for call in inputResults:\n",
    "        if \"source\" in call:\n",
    "            url = call[\"source\"]\n",
    "            res = get_tld(url, as_object=True, fail_silently=True)\n",
    "\n",
    "            if res is None:\n",
    "                continue\n",
    "\n",
    "            if res.domain not in sortedApis:\n",
    "                # domain has no existing entries\n",
    "                sortedApis[res.domain] = {url : {\"count\": 1, \"timestamps\": []}}\n",
    "                if \"timestamp\" in call:\n",
    "                    sortedApis[res.domain][url][\"timestamps\"].append(call[\"timestamp\"])\n",
    "                continue\n",
    "\n",
    "            if url in sortedApis[res.domain]:\n",
    "                sortedApis[res.domain][url][\"count\"] += 1\n",
    "                if \"timestamp\" in call:\n",
    "                    sortedApis[res.domain][url][\"timestamps\"].append(call[\"timestamp\"])\n",
    "            else:\n",
    "                sortedApis[res.domain][url] = {\"count\": 1, \"timestamps\": []}\n",
    "                if \"timestamp\" in call:\n",
    "                    sortedApis[res.domain][url][\"timestamps\"].append(call[\"timestamp\"])\n",
    "    \n",
    "    return sortedApis"
   ]
  },
  {
   "cell_type": "code",
   "execution_count": 30,
   "metadata": {},
   "outputs": [],
   "source": [
    "def sortFilled(allData):\n",
    "    fillData = srsData = allData[\"data\"][\"srs\"][1]\n",
    "    return {\"filledFields\": fillData[0], \"startTime\": fillData[1], \"stopTime\": fillData[2], \"listOfFilledTypes\": fillData[3], \"failedFields\": fillData[4]}"
   ]
  },
  {
   "cell_type": "code",
   "execution_count": 31,
   "metadata": {},
   "outputs": [],
   "source": [
    "files = glob.glob(filePathFolder + '*.json', recursive = False)\n",
    "failedSites = []"
   ]
  },
  {
   "cell_type": "code",
   "execution_count": 32,
   "metadata": {},
   "outputs": [],
   "source": [
    "for file in files:\n",
    "    # try:\n",
    "        if file == filePathFolder + \"metadata.json\" or file == filePathFolder + \"log.txt\":\n",
    "            continue\n",
    "\n",
    "        outputName = outputPath + file[file.rfind(\"data\\\\\")+5 :]\n",
    "        # print(\"file: \", file, \" mapped to: \", outputName)\n",
    "\n",
    "        # Load the data from the .json file\n",
    "        f = open(file, encoding=\"utf-8\") \n",
    "        allData = json.load(f)\n",
    "        f.close()\n",
    "\n",
    "        # Sort output\n",
    "        finalDict = {}\n",
    "        finalDict[\"srs\"] = sortEventListeners(allData)\n",
    "        finalDict[\"requests\"] = sortRequestsURL(allData)\n",
    "        finalDict[\"apis\"] = sortApis(allData)\n",
    "        finalDict[\"filled\"] = sortFilled(allData)\n",
    "\n",
    "        # Save output\n",
    "        with open(outputName, 'w') as fp:\n",
    "            json.dump(finalDict, fp, default=tuple, sort_keys=True, indent=4)\n",
    "            fp.close()\n",
    "    # except:\n",
    "    #     failedSites.append(file)\n",
    "\n",
    "if len(failedPath) != 0:\n",
    "    with open(failedPath, 'w') as fp:\n",
    "        json.dump(failedSites, fp, default=tuple, sort_keys=True, indent=4)\n",
    "        fp.close()"
   ]
  }
 ],
 "metadata": {
  "kernelspec": {
   "display_name": "Python 3",
   "language": "python",
   "name": "python3"
  },
  "language_info": {
   "codemirror_mode": {
    "name": "ipython",
    "version": 3
   },
   "file_extension": ".py",
   "mimetype": "text/x-python",
   "name": "python",
   "nbconvert_exporter": "python",
   "pygments_lexer": "ipython3",
   "version": "3.10.7"
  },
  "vscode": {
   "interpreter": {
    "hash": "369f2c481f4da34e4445cda3fffd2e751bd1c4d706f27375911949ba6bb62e1c"
   }
  }
 },
 "nbformat": 4,
 "nbformat_minor": 4
}
